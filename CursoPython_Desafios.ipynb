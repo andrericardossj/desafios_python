{
  "nbformat": 4,
  "nbformat_minor": 0,
  "metadata": {
    "colab": {
      "name": "CursoPython#Desafios",
      "provenance": [],
      "collapsed_sections": [],
      "authorship_tag": "ABX9TyNSMiEuhbMxHuYgYjh0UvK0",
      "include_colab_link": true
    },
    "kernelspec": {
      "name": "python3",
      "display_name": "Python 3"
    },
    "language_info": {
      "name": "python"
    }
  },
  "cells": [
    {
      "cell_type": "markdown",
      "metadata": {
        "id": "view-in-github",
        "colab_type": "text"
      },
      "source": [
        "<a href=\"https://colab.research.google.com/github/andrericardossj/desafios_python/blob/main/CursoPython_Desafios.ipynb\" target=\"_parent\"><img src=\"https://colab.research.google.com/assets/colab-badge.svg\" alt=\"Open In Colab\"/></a>"
      ]
    },
    {
      "cell_type": "code",
      "metadata": {
        "colab": {
          "base_uri": "https://localhost:8080/"
        },
        "id": "Pje1IqlyRbqs",
        "outputId": "900cd2ab-dc1c-4959-d6c9-b526146a727b"
      },
      "source": [
        "#Desafio 01\n",
        "\n",
        "nome = input(\"Qual é o seu nome? \")\n",
        "print(\"Olá {}! Prazer em te conhecer!\".format(nome))"
      ],
      "execution_count": null,
      "outputs": [
        {
          "output_type": "stream",
          "text": [
            "Qual é o seu nome? André\n",
            "Olá André! Prazer em te conhecer!\n"
          ],
          "name": "stdout"
        }
      ]
    },
    {
      "cell_type": "code",
      "metadata": {
        "colab": {
          "base_uri": "https://localhost:8080/"
        },
        "id": "mEQyjWZzR7N2",
        "outputId": "715a95c6-bc8e-47fe-d985-3c9789ffd3e5"
      },
      "source": [
        "#Desafio 02 \n",
        "\n",
        "dia = input(\"Qual o seu dia de nascimento? \")\n",
        "mes = input(\"Qual o seu mês de nascimento? \")\n",
        "ano = input(\"Qual o seu ano de nascimento? \")\n",
        "\n",
        "print(\"Sua data de nascimento é: {} / {} / {}\".format(dia, mes, ano))"
      ],
      "execution_count": null,
      "outputs": [
        {
          "output_type": "stream",
          "text": [
            "Qual o seu dia de nascimento? 21\n",
            "Qual o seu mês de nascimento? 09\n",
            "Qual o seu ano de nascimento? 1995\n",
            "Sua data de nascimento é: 21 / 09 / 1995\n"
          ],
          "name": "stdout"
        }
      ]
    },
    {
      "cell_type": "code",
      "metadata": {
        "colab": {
          "base_uri": "https://localhost:8080/"
        },
        "id": "kAbxAgExShZU",
        "outputId": "558bac17-2e12-4373-c520-c93f2ce1564c"
      },
      "source": [
        "#Desafio 03\n",
        "\n",
        "var1 = int (input(\"Digite um número: \"))\n",
        "var2 = int (input(\"Digite outro número: \"))\n",
        "var3 = var1 + var2\n",
        "\n",
        "print(\"A soma entre {} e {} vale: {}\".format(var1,var2,var3))"
      ],
      "execution_count": null,
      "outputs": [
        {
          "output_type": "stream",
          "text": [
            "Digite um número: 5\n",
            "Digite outro número: 2\n",
            "A soma entre 5 e 2 vale: 7\n"
          ],
          "name": "stdout"
        }
      ]
    },
    {
      "cell_type": "code",
      "metadata": {
        "id": "0V0r9WYCb5LJ"
      },
      "source": [
        "#Desafio 04\n",
        "\n",
        "n = input(\"Digite algo: \")\n",
        "print(\"O tipo primitivo é:\", type(n))\n",
        "print(\"Só tem espaços?\", n.isspace())\n",
        "print(\"É um número?\", n.isnumeric())\n",
        "print(\"É alfabético?\", n.isalpha())\n",
        "print(\"É alfanúmerico?\", n.isalnum())\n",
        "print(\"Está em maiúsculas?\", n.isupper())\n",
        "print(\"Está em minúsculas?\", n.islower())\n",
        "print(\"Está capitalizada?\", n.istitle())"
      ],
      "execution_count": null,
      "outputs": []
    },
    {
      "cell_type": "code",
      "metadata": {
        "colab": {
          "base_uri": "https://localhost:8080/"
        },
        "id": "3SLiO4JUiaZp",
        "outputId": "acbd94e3-61f6-4c07-aab3-14ab7d9b0e6d"
      },
      "source": [
        "#Desafio 05 \n",
        "\n",
        "n = int (input(\"Digite um valor: \"))\n",
        "a = n - 1\n",
        "s = n + 1 \n",
        "\n",
        "print(\"O antecessor é: {} \\n e o sucessor é: {}\".format(a,s))"
      ],
      "execution_count": null,
      "outputs": [
        {
          "output_type": "stream",
          "text": [
            "Digite um valor: 5\n",
            "O antecessor é: 4 \n",
            " e o sucessor é: 6\n"
          ],
          "name": "stdout"
        }
      ]
    },
    {
      "cell_type": "code",
      "metadata": {
        "colab": {
          "base_uri": "https://localhost:8080/"
        },
        "id": "fb8C4To_jFEW",
        "outputId": "49dc9197-76ad-4783-aea9-d37bd122b742"
      },
      "source": [
        "#Desafio 06\n",
        "\n",
        "n = int (input(\"Digite um valor: \"))\n",
        "dobro = n * 2\n",
        "triplo = n * 3 \n",
        "raiz = n ** (1/2)\n",
        "\n",
        "print(\"O dobro é: {}, o triplo é {}, e a raiz quadrada é {}\".format(dobro, triplo, raiz))"
      ],
      "execution_count": null,
      "outputs": [
        {
          "output_type": "stream",
          "text": [
            "Digite um valor: 64\n",
            "O dobro é: 128, o triplo é 192, e a raiz quadrada é 8.0\n"
          ],
          "name": "stdout"
        }
      ]
    },
    {
      "cell_type": "code",
      "metadata": {
        "colab": {
          "base_uri": "https://localhost:8080/"
        },
        "id": "4RTx81VyjzdC",
        "outputId": "bb3af598-cae7-4512-d35c-f89d71be64f4"
      },
      "source": [
        "#Desafio 07\n",
        "\n",
        "n1 = int (input(\"Digite a primeira nota: \"))\n",
        "n2 = int (input(\"Digite a segunda nota: \"))\n",
        "m = (n1 + n2) / 2\n",
        "\n",
        "print(\"A média do aluno é: {}\".format(m))"
      ],
      "execution_count": null,
      "outputs": [
        {
          "output_type": "stream",
          "text": [
            "Digite a primeira nota: 8\n",
            "Digite a segunda nota: 8\n",
            "A média do aluno é: 8.0\n"
          ],
          "name": "stdout"
        }
      ]
    },
    {
      "cell_type": "code",
      "metadata": {
        "colab": {
          "base_uri": "https://localhost:8080/"
        },
        "id": "Ijl8wVtXkXjO",
        "outputId": "929f5275-623e-4165-d575-897108f89380"
      },
      "source": [
        "#Desafio 08\n",
        "\n",
        "n = int (input(\"Digite o valor em metros: \"))\n",
        "c = n * 100\n",
        "m = n * 1000\n",
        "\n",
        "print(\"O valor em cm é {} e em mm é {}\".format(c,m))"
      ],
      "execution_count": null,
      "outputs": [
        {
          "output_type": "stream",
          "text": [
            "Digite o valor em metros: 1\n",
            "O valor em cm é 100 e em mm é 1000\n"
          ],
          "name": "stdout"
        }
      ]
    },
    {
      "cell_type": "code",
      "metadata": {
        "colab": {
          "base_uri": "https://localhost:8080/"
        },
        "id": "r4GTBgJhlD2d",
        "outputId": "59c0250e-1ead-4d96-b125-d83342d5d6dc"
      },
      "source": [
        "#Desafio 09 \n",
        "\n",
        "n = int (input(\"Digite um valor para a tabuada: \"))\n",
        "aux = 0\n",
        "\n",
        "print(\"*\" * 20)\n",
        "print(\"Tabuada de {}\".format(n))\n",
        "print(\"*\" * 20)\n",
        "\n",
        "while (aux <= 10):\n",
        "  print(\"{0} x {1} = {2}\".format(n, aux, (aux * n)))\n",
        "  aux = aux + 1\n"
      ],
      "execution_count": null,
      "outputs": [
        {
          "output_type": "stream",
          "text": [
            "Digite um valor para a tabuada: 5\n",
            "********************\n",
            "Tabuada de 5\n",
            "********************\n",
            "5 x 0 = 0\n",
            "5 x 1 = 5\n",
            "5 x 2 = 10\n",
            "5 x 3 = 15\n",
            "5 x 4 = 20\n",
            "5 x 5 = 25\n",
            "5 x 6 = 30\n",
            "5 x 7 = 35\n",
            "5 x 8 = 40\n",
            "5 x 9 = 45\n",
            "5 x 10 = 50\n"
          ],
          "name": "stdout"
        }
      ]
    },
    {
      "cell_type": "code",
      "metadata": {
        "colab": {
          "base_uri": "https://localhost:8080/"
        },
        "id": "92U46A0HoFSO",
        "outputId": "83ffac26-d5b7-4375-c643-b0f3840356ab"
      },
      "source": [
        "#Desafio 10\n",
        "\n",
        "n = float (input(\"Conversor de real para dolar: Digite a quantidade em reais: \"))\n",
        "d = n / 5.26\n",
        "\n",
        "print(\"R${} em dólar é: US${:.2f}\".format(n,d))"
      ],
      "execution_count": null,
      "outputs": [
        {
          "output_type": "stream",
          "text": [
            "Conversor de real para dolar: Digite a quantidade em reais: 525.90\n",
            "R$525.9 em dólar é: US$99.98\n"
          ],
          "name": "stdout"
        }
      ]
    },
    {
      "cell_type": "code",
      "metadata": {
        "colab": {
          "base_uri": "https://localhost:8080/"
        },
        "id": "AFbrQEWTpNYN",
        "outputId": "f1741ea5-0105-422c-fef2-3dfa3ec700cb"
      },
      "source": [
        "#Desafio 11\n",
        "\n",
        "altura = float (input(\"Altura da parede: \"))\n",
        "largura = float (input(\"Largura da parede: \"))\n",
        "area = largura * altura \n",
        "tinta = area / 2\n",
        "\n",
        "print(\"A área da sua parede é {}m²\".format(area))\n",
        "print(\"Para pintar essa parede, você precisará de {}L de tinta\".format(tinta))"
      ],
      "execution_count": null,
      "outputs": [
        {
          "output_type": "stream",
          "text": [
            "Altura da parede: 3\n",
            "Largura da parede: 2\n",
            "A área da sua parede é 6.0m²\n",
            "Para pintar essa parede, você precisará de 3.0L de tinta\n"
          ],
          "name": "stdout"
        }
      ]
    },
    {
      "cell_type": "code",
      "metadata": {
        "colab": {
          "base_uri": "https://localhost:8080/"
        },
        "id": "73IiVw-hpRgb",
        "outputId": "8f40cf5e-d7f2-448e-f060-6d336b1d7305"
      },
      "source": [
        "#Desafio 12 \n",
        "\n",
        "n = float (input(\"Digite o preço do produto para ver o seu desconto de 5%: \"))\n",
        "desc = (n * 0.95)\n",
        "\n",
        "print(\"O produto com desconto custa R$ {}\".format(desc))"
      ],
      "execution_count": null,
      "outputs": [
        {
          "output_type": "stream",
          "text": [
            "Digite o preço do produto para ver o seu desconto de 5%: 150\n",
            "O produto com desconto custa R$ 142.5\n"
          ],
          "name": "stdout"
        }
      ]
    },
    {
      "cell_type": "code",
      "metadata": {
        "colab": {
          "base_uri": "https://localhost:8080/"
        },
        "id": "svP1SXm6r9wQ",
        "outputId": "845d5a59-db50-4a71-a4b1-bb42f6fa9db3"
      },
      "source": [
        "#Desafio 13 \n",
        "\n",
        "n = float (input(\"Digite o sálario para ter reajuste de 15%: \"))\n",
        "desc = (n * 1.15)\n",
        "\n",
        "print(\"Novo sálario é R$ {}\".format(desc))"
      ],
      "execution_count": null,
      "outputs": [
        {
          "output_type": "stream",
          "text": [
            "Digite o sálario para ter reajuste de 15%: 1000\n",
            "Novo sálario é R$ 1150.0\n"
          ],
          "name": "stdout"
        }
      ]
    },
    {
      "cell_type": "code",
      "metadata": {
        "colab": {
          "base_uri": "https://localhost:8080/"
        },
        "id": "JDKh0BG0uNRs",
        "outputId": "5ddb23fb-65d7-4c1c-85c3-70a27617df8c"
      },
      "source": [
        "#Desafio 14\n",
        "\n",
        "c = float (input(\"Informe a tempera em Cº: \"))\n",
        "f = ((9 * c) /5) + 32\n",
        "\n",
        "print(\"A temperatura de {}cº corresponde a {}fº\".format(c,f))\n"
      ],
      "execution_count": null,
      "outputs": [
        {
          "output_type": "stream",
          "text": [
            "Informe a tempera em Cº: 40\n",
            "A temperatura de 40.0cº corresponde a 104.0fº\n"
          ],
          "name": "stdout"
        }
      ]
    },
    {
      "cell_type": "code",
      "metadata": {
        "colab": {
          "base_uri": "https://localhost:8080/"
        },
        "id": "0WSr1Y5Qvi0b",
        "outputId": "6c451ce0-c1dc-42bb-fb91-48151c38b8cc"
      },
      "source": [
        "#Desafio 15 \n",
        "\n",
        "dias = int (input(\"Quantos dias alugados? \"))\n",
        "km = float (input(\"Quantos KM rodados? \"))\n",
        "pago = (dias * 60) + (km * 0.15) \n",
        "print(\"O total a pagar é de R${:.2f}\".format(pago))"
      ],
      "execution_count": null,
      "outputs": [
        {
          "output_type": "stream",
          "text": [
            "Quantos dias alugados? 3\n",
            "Quantos KM rodados? 350\n",
            "O total a pagar é de R$232.50\n"
          ],
          "name": "stdout"
        }
      ]
    },
    {
      "cell_type": "code",
      "metadata": {
        "colab": {
          "base_uri": "https://localhost:8080/"
        },
        "id": "E83nHGjRD3mn",
        "outputId": "a5048d65-288a-42f1-d0de-59ab657a28b2"
      },
      "source": [
        "#Desafio 16\n",
        "\n",
        "import math\n",
        "\n",
        "num = float (input('Digite um número real qualquer: '))\n",
        "print('O número: {} tem a parte inteira {}'.format(num, math.trunc(num)))"
      ],
      "execution_count": null,
      "outputs": [
        {
          "output_type": "stream",
          "text": [
            "Digite um número real qualquer: 6.127\n",
            "O número: 6.127 tem a parte inteira 6\n"
          ],
          "name": "stdout"
        }
      ]
    },
    {
      "cell_type": "code",
      "metadata": {
        "colab": {
          "base_uri": "https://localhost:8080/"
        },
        "id": "eHZndzN_FlmY",
        "outputId": "030979a6-7429-410e-bc9c-0a37de36b963"
      },
      "source": [
        "#Desafio 17\n",
        "\n",
        "import math\n",
        "\n",
        "co = float (input('Digite o cateto oposto: '))\n",
        "ca = float (input('Digite o cateto adjacente: '))\n",
        "#hi = math.sqrt((math.pow(ca,2) + math.pow(co,2)))\n",
        "hi = math.hypot(co, ca)\n",
        "\n",
        "print ('A hipotenusa vai medir {:.2f}'.format(hi))"
      ],
      "execution_count": null,
      "outputs": [
        {
          "output_type": "stream",
          "text": [
            "Digite o cateto oposto: 2\n",
            "Digite o cateto adjacente: 2.5\n",
            "A hipotenusa vai medir 3.20\n"
          ],
          "name": "stdout"
        }
      ]
    },
    {
      "cell_type": "code",
      "metadata": {
        "colab": {
          "base_uri": "https://localhost:8080/"
        },
        "id": "uhJJDdMPI6H7",
        "outputId": "ff2a0c16-4742-4727-9b09-643b1d7a29cc"
      },
      "source": [
        "#Desafio 18\n",
        "import math\n",
        "\n",
        "a = float (input('Digite um ângulo: '))\n",
        "print(\"Seno: {:.2f}\".format(math.sin(math.radians(a))))\n",
        "print(\"Cosseno: {:.2f}\".format(math.cos(math.radians(a))))\n",
        "print(\"Tangente: {:.2f}\".format(math.tan(math.radians(a))))"
      ],
      "execution_count": null,
      "outputs": [
        {
          "output_type": "stream",
          "text": [
            "Digite um ângulo: 30\n",
            "Seno: 0.50\n",
            "Cosseno: 0.87\n",
            "Tangente: 0.58\n"
          ],
          "name": "stdout"
        }
      ]
    },
    {
      "cell_type": "code",
      "metadata": {
        "colab": {
          "base_uri": "https://localhost:8080/"
        },
        "id": "ktaH_uIwKbGB",
        "outputId": "47e9935b-599a-4cb5-c2e5-cfb6dd4f87fd"
      },
      "source": [
        "#Desafio 19\n",
        "import random\n",
        "\n",
        "alunos = [] #começa com a lista vazia\n",
        "i = 0 #var de auxilio\n",
        "while i < 4: #condição\n",
        "    aluno = str (input('Digite o nome do aluno para sortear: '))\n",
        "    i = i+1 #implementação \n",
        "    alunos.append(aluno)\n",
        "\n",
        "print('O aluno sorteado para apagar a lousa foi: {}'.format(random.choice(alunos)))"
      ],
      "execution_count": null,
      "outputs": [
        {
          "output_type": "stream",
          "text": [
            "Digite o nome dos alunos para sortear: andre\n",
            "Digite o nome dos alunos para sortear: ricardo\n",
            "Digite o nome dos alunos para sortear: sousa\n",
            "Digite o nome dos alunos para sortear: santos\n",
            "O aluno sorteado para apagar a lousa foi: andre\n"
          ],
          "name": "stdout"
        }
      ]
    },
    {
      "cell_type": "code",
      "metadata": {
        "id": "ZkPSXN6UUK3x"
      },
      "source": [
        "#Desafio 20\n",
        "import random\n",
        "\n",
        "alunos = [] \n",
        "i = 0 \n",
        "while i < 4: \n",
        "    aluno = str (input('Digite o nome dos alunos para sortear: '))\n",
        "    i = i+1  \n",
        "    alunos.append(aluno)\n",
        "    random.shuffle(alunos)\n",
        "\n",
        "print('A ordem de apresentação dos alunos é: {}'.format((alunos)))"
      ],
      "execution_count": null,
      "outputs": []
    },
    {
      "cell_type": "code",
      "metadata": {
        "id": "_fc6plAsuAB8",
        "colab": {
          "base_uri": "https://localhost:8080/"
        },
        "outputId": "07056f5d-2bcd-4069-ddf0-c1814a651ca4"
      },
      "source": [
        "#Desafio 22\n",
        "nome = str (input('Digite o seu nome completo: ')).strip()\n",
        "print('Seu nome todo em maiúsculo é: {}'.format(nome.upper()))\n",
        "print('Seu nome todo em minúsculo é: {}'.format(nome.lower()))\n",
        "print('O total de letras do seu nome é: {}'.format(len(nome.replace(' ',''))))\n",
        "print('Seu primeiro nome tem {} letras'.format(len(nome.split()[0])))"
      ],
      "execution_count": null,
      "outputs": [
        {
          "output_type": "stream",
          "text": [
            "Digite o seu nome completo:      Ana Maria    \n",
            "Seu nome todo em maiúsculo é: ANA MARIA\n",
            "Seu nome todo em minúsculo é: ana maria\n",
            "O total de letras do seu nome é: 8\n",
            "Seu primeiro nome tem 3 letras\n"
          ],
          "name": "stdout"
        }
      ]
    },
    {
      "cell_type": "code",
      "metadata": {
        "id": "K3hu7DFhy0-p",
        "colab": {
          "base_uri": "https://localhost:8080/"
        },
        "outputId": "e9a0ca6b-1df6-4d25-e4bf-f669f287313e"
      },
      "source": [
        "#Desafio 23\n",
        "numero = int (input('Digite um número inteiro de 0 a 9999: '))\n",
        "u = numero // 1 % 10\n",
        "d = numero // 10 % 10\n",
        "c = numero // 100 % 10\n",
        "m = numero // 1000 % 10\n",
        "\n",
        "print('Unidade: {}'.format(u))\n",
        "print('Dezena: {}'.format(d))\n",
        "print('Centena: {}'.format(c))\n",
        "print('Milhar: {}'.format(m))"
      ],
      "execution_count": null,
      "outputs": [
        {
          "output_type": "stream",
          "text": [
            "Digite um número inteiro de 0 a 9999: 4523\n",
            "Unidade: 3\n",
            "Dezena: 2\n",
            "Centena: 5\n",
            "Milhar: 4\n"
          ],
          "name": "stdout"
        }
      ]
    },
    {
      "cell_type": "code",
      "metadata": {
        "id": "J5U80Rb10cxD",
        "colab": {
          "base_uri": "https://localhost:8080/"
        },
        "outputId": "7b8645b4-653a-4f81-a485-140f3f8ec92b"
      },
      "source": [
        "#Desafio 24\n",
        "cidade = str (input('Digite o nome da sua cidade: ')).lower()\n",
        "print('A cidade começa com \"Santo\"? {}'.format(\"santo\" in cidade.split()[0]))"
      ],
      "execution_count": null,
      "outputs": [
        {
          "output_type": "stream",
          "text": [
            "Digite o nome da sua cidade:      Santo Amaro   \n",
            "A cidade começa com \"Santo\"? True\n"
          ],
          "name": "stdout"
        }
      ]
    },
    {
      "cell_type": "code",
      "metadata": {
        "id": "An97_oOq1kE8"
      },
      "source": [
        "#Desafio 25\n",
        "nome = str (input('Digite o seu nome: ')).lower()\n",
        "print('O seu nome tem \"Silva\"? {}'.format(\"silva\" in nome.split()[:]))"
      ],
      "execution_count": null,
      "outputs": []
    },
    {
      "cell_type": "code",
      "metadata": {
        "colab": {
          "base_uri": "https://localhost:8080/"
        },
        "id": "4SI9_2P_2rGE",
        "outputId": "b5fb201f-0261-4d7b-8dee-a127a061df67"
      },
      "source": [
        "#Desafio 26\n",
        "frase = str (input('Digite uma frase: ')).lower().strip()\n",
        "print('A letra \"a\" aparece {} vezes na sua frase'.format(frase.count('a')))\n",
        "print('A letra \"a\" aparece pela primeira vez na posição {}'.format(frase.find('a')+1))\n",
        "print('A letra \"a\" aparece pela última vez na posição {}'.format(frase.rfind('a')+1))"
      ],
      "execution_count": null,
      "outputs": [
        {
          "output_type": "stream",
          "text": [
            "Digite uma frase:    Arara Azul    \n",
            "A letra \"a\" aparece 4 vezes na sua frase\n",
            "A letra \"a\" aparece pela primeira vez na posição 1\n",
            "A letra \"a\" aparece pela última vez na posição 7\n"
          ],
          "name": "stdout"
        }
      ]
    },
    {
      "cell_type": "code",
      "metadata": {
        "colab": {
          "base_uri": "https://localhost:8080/"
        },
        "id": "7A9WEzhb4iM8",
        "outputId": "f62a57dd-4e8c-4dd8-f552-e4a48ac42e29"
      },
      "source": [
        "#Desafio 27\n",
        "nome = str (input('Digite seu nome completo: '))\n",
        "print('Seu primeiro nome: {}'.format(nome.split()[0]))\n",
        "print('Seu último nome: {}'.format(nome.split()[-1]))"
      ],
      "execution_count": null,
      "outputs": [
        {
          "output_type": "stream",
          "text": [
            "Digite seu nome completo:        Jose Carlos ROsa Pinto JOse           \n",
            "Seu primeiro nome: Jose\n",
            "Seu último nome: JOse\n"
          ],
          "name": "stdout"
        }
      ]
    },
    {
      "cell_type": "code",
      "metadata": {
        "colab": {
          "base_uri": "https://localhost:8080/"
        },
        "id": "F4uXIwd0df-I",
        "outputId": "0ed207c1-5cbb-454f-ac2d-580ebd66c07d"
      },
      "source": [
        "#Desafio 28\n",
        "import random\n",
        "sorteado = random.randint(0,5)\n",
        "numero = int (input('Tente adivinhar o número de 0 a 5: '))\n",
        "if numero == sorteado:\n",
        "  print('Você acertou!!!')\n",
        "  print('O número sorteado foi: {}'.format(sorteado))\n",
        "else:\n",
        "  print('Você não acertou :(')\n",
        "  print('O número sorteado foi: {}'.format(sorteado))"
      ],
      "execution_count": null,
      "outputs": [
        {
          "output_type": "stream",
          "text": [
            "Tente adivinhar o número de 0 a 5: 3\n",
            "Você acertou!!!\n",
            "O número sorteado foi: 3\n"
          ],
          "name": "stdout"
        }
      ]
    },
    {
      "cell_type": "code",
      "metadata": {
        "colab": {
          "base_uri": "https://localhost:8080/"
        },
        "id": "9r_AIDxkjmDw",
        "outputId": "939ed0c4-e77a-40f8-aec4-8087f6a93d9b"
      },
      "source": [
        "#Desafio 29\n",
        "velocidade = float (input('Qual a velocidade que você estava: '))\n",
        "if velocidade > 80.0:\n",
        "  print('Você estava acima do limite de velocidade e foi MULTADO.')\n",
        "  print('Multa de R$7,00 por KM acima do limite. Valor total R${}'.format((velocidade - 80.0) * 7))\n",
        "else:\n",
        "  print('Abaixo do limite de velocidade. Você não foi multado.')"
      ],
      "execution_count": null,
      "outputs": [
        {
          "output_type": "stream",
          "text": [
            "Qual a velocidade que você estava: 60\n",
            "Abaixo do limite de velocidade. Você não foi multado.\n"
          ],
          "name": "stdout"
        }
      ]
    },
    {
      "cell_type": "code",
      "metadata": {
        "colab": {
          "base_uri": "https://localhost:8080/"
        },
        "id": "CZUnomJEmBVk",
        "outputId": "8478508c-c65d-4289-f1e3-3f636a8e407a"
      },
      "source": [
        "#Desafio 30\n",
        "numero = float (input('Digite um número: '))\n",
        "if numero % 2 == 0:\n",
        "  print('O número que você digitou é PAR')\n",
        "else:\n",
        "  print('O número que você digitou é IMPAR')"
      ],
      "execution_count": null,
      "outputs": [
        {
          "output_type": "stream",
          "text": [
            "Digite um número: 210\n",
            "O número que você digitou é PAR\n"
          ],
          "name": "stdout"
        }
      ]
    },
    {
      "cell_type": "code",
      "metadata": {
        "colab": {
          "base_uri": "https://localhost:8080/"
        },
        "id": "ZSNdWmRLo0nE",
        "outputId": "02947489-b1c4-4444-c4dd-32baa6425aba"
      },
      "source": [
        "#Desafio 31\n",
        "viagem = float(input('Qual a distância em KM terá sua viagem: '))\n",
        "if viagem < 200:\n",
        "  print('O valor da sua passagem será de R$0,50 por KM')\n",
        "  print('Valor total da passagem é: R${:.2f}'.format(viagem * 0.50))\n",
        "else:\n",
        "  print('O valor da sua passagem será de R$0,45 por KM')\n",
        "  print('Valor total da passagem é: R${:.2f}'.format(viagem * 0.45))"
      ],
      "execution_count": null,
      "outputs": [
        {
          "output_type": "stream",
          "text": [
            "Qual a distância em KM terá sua viagem: 500\n",
            "O valor da sua passagem será de R$0,45 por KM\n",
            "Valor total da passagem é: R$225.00\n"
          ],
          "name": "stdout"
        }
      ]
    },
    {
      "cell_type": "code",
      "metadata": {
        "colab": {
          "base_uri": "https://localhost:8080/"
        },
        "id": "DgMzmllDqFxT",
        "outputId": "d44cdf9d-17b9-430a-9e8a-257d26629e06"
      },
      "source": [
        "#Desafio 32\n",
        "ano = int(input('Digite um ano: '))\n",
        "if (ano % 4 == 0 and ano % 100 != 0) or (ano % 400 == 0):\n",
        "    print(\"Ano Bissexto\")\n",
        "else:\n",
        "    print(\"Não é um ano Bissexto!\")"
      ],
      "execution_count": null,
      "outputs": [
        {
          "output_type": "stream",
          "text": [
            "Digite um ano: 2016\n",
            "Ano Bissexto\n"
          ],
          "name": "stdout"
        }
      ]
    },
    {
      "cell_type": "code",
      "metadata": {
        "colab": {
          "base_uri": "https://localhost:8080/"
        },
        "id": "tGZa_O41r_mo",
        "outputId": "2d1cb525-1f60-4fcc-8e90-49691ff34bc4"
      },
      "source": [
        "#Desafio 33 \n",
        "a = int (input('Digite um número: '))\n",
        "b = int (input('Digite um número: '))\n",
        "c = int (input('Digite um número: '))\n",
        "\n",
        "menor = a\n",
        "if b < a and b < c:\n",
        "  menor = b\n",
        "if c < a and c < b:\n",
        "  menor = c \n",
        "\n",
        "maior = a\n",
        "if b > a and b > c:\n",
        "  maior = b\n",
        "if c > a and c > b:\n",
        "  maior = c \n",
        "\n",
        "print('O menor valor é: {}'.format(menor))\n",
        "print('O maior valor é: {}'.format(maior))"
      ],
      "execution_count": null,
      "outputs": [
        {
          "output_type": "stream",
          "text": [
            "Digite um número: 10\n",
            "Digite um número: 2\n",
            "Digite um número: 8\n",
            "O menor valor é: 2\n",
            "O maior valor é: 10\n"
          ],
          "name": "stdout"
        }
      ]
    },
    {
      "cell_type": "code",
      "metadata": {
        "colab": {
          "base_uri": "https://localhost:8080/"
        },
        "id": "YomfNSKos0c6",
        "outputId": "1380e3db-6051-4c87-988f-2cec08922c20"
      },
      "source": [
        "#Desafio 34\n",
        "salario = float (input('Digite o seu salário: '))\n",
        "if salario > 1250:\n",
        "  print('Você terá um aumento de 10%')\n",
        "  print('Seu salário é: R${:.2f}'.format(salario * 1.10))\n",
        "else: \n",
        "  print('Você terá um aumento de 15%')\n",
        "  print('Seu salário é: R${:.2f}'.format(salario * 1.15))"
      ],
      "execution_count": null,
      "outputs": [
        {
          "output_type": "stream",
          "text": [
            "Digite o seu salário: 1500\n",
            "Você terá um aumento de 10%\n",
            "Seu salário é: R$1650.00\n"
          ],
          "name": "stdout"
        }
      ]
    },
    {
      "cell_type": "code",
      "metadata": {
        "colab": {
          "base_uri": "https://localhost:8080/"
        },
        "id": "cI6RFPpEtsXV",
        "outputId": "0f096cee-bc22-477d-e466-ae72e0f6045f"
      },
      "source": [
        "#Desafio 35\n",
        "print('-='*20)\n",
        "print('Analisador de Triângulos')\n",
        "print('-='*20)\n",
        "\n",
        "r1 = float (input('Primeiro segmento: '))\n",
        "r2 = float (input('Segundo segmento: '))\n",
        "r3 = float (input('Terceiro segmento: '))\n",
        "\n",
        "if r1 < r2 + r3 and r2 < r1 + r3 and r3 < r1 + r2:\n",
        "  print('Os segmentos acima podem formar um triângulo!')\n",
        "else:\n",
        "  print('Os segmentos acima não podem formar um triângulo!')\n"
      ],
      "execution_count": null,
      "outputs": [
        {
          "output_type": "stream",
          "text": [
            "-=-=-=-=-=-=-=-=-=-=-=-=-=-=-=-=-=-=-=-=\n",
            "Analisador de Triângulos\n",
            "-=-=-=-=-=-=-=-=-=-=-=-=-=-=-=-=-=-=-=-=\n",
            "Primeiro segmento: 3\n",
            "Segundo segmento: 3\n",
            "Terceiro segmento: 3\n",
            "Os segmentos acima podem formar um triângulo!\n"
          ],
          "name": "stdout"
        }
      ]
    },
    {
      "cell_type": "code",
      "metadata": {
        "colab": {
          "base_uri": "https://localhost:8080/"
        },
        "id": "fOmvB48h5aqa",
        "outputId": "a6e32206-9bee-4217-eda3-9bd4b9faef9b"
      },
      "source": [
        "print('\\033[32mOlá mundo!\\033[m')"
      ],
      "execution_count": null,
      "outputs": [
        {
          "output_type": "stream",
          "text": [
            "\u001b[32mOlá mundo!\u001b[m\n"
          ],
          "name": "stdout"
        }
      ]
    }
  ]
}